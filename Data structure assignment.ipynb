{
 "cells": [
  {
   "cell_type": "code",
   "execution_count": 1,
   "id": "45e21b21-e757-499b-97c5-993602510a36",
   "metadata": {},
   "outputs": [],
   "source": [
    "#practical questions"
   ]
  },
  {
   "cell_type": "code",
   "execution_count": 2,
   "id": "a9b6a4ad-2b0b-4f1c-b433-af0564bbf933",
   "metadata": {},
   "outputs": [
    {
     "name": "stdout",
     "output_type": "stream",
     "text": [
      "Jinal Khutad\n"
     ]
    }
   ],
   "source": [
    "#ans 1\n",
    "a = \"Jinal Khutad\"\n",
    "print(a)"
   ]
  },
  {
   "cell_type": "code",
   "execution_count": 3,
   "id": "478e7e42-6798-4a77-8e82-7da5d9559334",
   "metadata": {},
   "outputs": [
    {
     "data": {
      "text/plain": [
       "11"
      ]
     },
     "execution_count": 3,
     "metadata": {},
     "output_type": "execute_result"
    }
   ],
   "source": [
    "#ans 2\n",
    "string = \"Hello World\"\n",
    "len(string)"
   ]
  },
  {
   "cell_type": "code",
   "execution_count": 6,
   "id": "560852fa-b612-49e7-8e31-8e33cd8dc5ac",
   "metadata": {},
   "outputs": [
    {
     "data": {
      "text/plain": [
       "'Pyt'"
      ]
     },
     "execution_count": 6,
     "metadata": {},
     "output_type": "execute_result"
    }
   ],
   "source": [
    "#ans 3\n",
    "string2 = \"Python Programming\"\n",
    "string2[0:3]"
   ]
  },
  {
   "cell_type": "code",
   "execution_count": 13,
   "id": "3306f9a7-bf3f-4de4-a482-390c0a171a48",
   "metadata": {},
   "outputs": [
    {
     "data": {
      "text/plain": [
       "'HELLO'"
      ]
     },
     "execution_count": 13,
     "metadata": {},
     "output_type": "execute_result"
    }
   ],
   "source": [
    "#ans 4\n",
    "string3 = \"hello\"\n",
    "string3.upper()"
   ]
  },
  {
   "cell_type": "code",
   "execution_count": 14,
   "id": "8230df3f-742a-4c08-b818-9bb50f949fa7",
   "metadata": {},
   "outputs": [
    {
     "data": {
      "text/plain": [
       "'I like orange'"
      ]
     },
     "execution_count": 14,
     "metadata": {},
     "output_type": "execute_result"
    }
   ],
   "source": [
    "#ans 5\n",
    "string4 = \"I like apple\"\n",
    "string4.replace(\"apple\", \"orange\")"
   ]
  },
  {
   "cell_type": "code",
   "execution_count": 20,
   "id": "8ce59fde-d2b8-4c71-8e06-d646795ec17e",
   "metadata": {},
   "outputs": [],
   "source": [
    "#ans 7\n",
    "list1 = [1,2,3,4]\n",
    "list1.append(10)"
   ]
  },
  {
   "cell_type": "code",
   "execution_count": 21,
   "id": "ddeadce0-0f88-4344-b493-d6ccf31c2f05",
   "metadata": {},
   "outputs": [
    {
     "data": {
      "text/plain": [
       "[1, 2, 3, 4, 10]"
      ]
     },
     "execution_count": 21,
     "metadata": {},
     "output_type": "execute_result"
    }
   ],
   "source": [
    "list1"
   ]
  },
  {
   "cell_type": "code",
   "execution_count": 22,
   "id": "ea77fad0-26e6-4d08-b685-90bf1b34a7bb",
   "metadata": {},
   "outputs": [],
   "source": [
    "#ans 8\n",
    "list2 = [1,2,3,4,5]\n",
    "list2.remove(3)"
   ]
  },
  {
   "cell_type": "code",
   "execution_count": 23,
   "id": "2608e6b9-22a5-4bf9-8e13-07102781164d",
   "metadata": {},
   "outputs": [
    {
     "data": {
      "text/plain": [
       "[1, 2, 4, 5]"
      ]
     },
     "execution_count": 23,
     "metadata": {},
     "output_type": "execute_result"
    }
   ],
   "source": [
    "list2"
   ]
  },
  {
   "cell_type": "code",
   "execution_count": 26,
   "id": "af9a089e-d70f-4c1e-b97f-789ed6b4d766",
   "metadata": {},
   "outputs": [
    {
     "data": {
      "text/plain": [
       "[50, 40, 30, 20, 10]"
      ]
     },
     "execution_count": 26,
     "metadata": {},
     "output_type": "execute_result"
    }
   ],
   "source": [
    "#ans 10\n",
    "list3 = [10,20,30,40,50]\n",
    "list3[::-1]"
   ]
  },
  {
   "cell_type": "code",
   "execution_count": 13,
   "id": "32994b01-aeba-43a7-8ee2-7832509b700c",
   "metadata": {},
   "outputs": [
    {
     "name": "stdout",
     "output_type": "stream",
     "text": [
      "[1, 2, 3, 4, 5]\n"
     ]
    }
   ],
   "source": [
    "#ans 6\n",
    "list4 = list(range(1,6))\n",
    "print(list4)"
   ]
  },
  {
   "cell_type": "code",
   "execution_count": 3,
   "id": "d8119d58-c7ab-4fb0-ac5e-44987153ebd4",
   "metadata": {},
   "outputs": [
    {
     "data": {
      "text/plain": [
       "'b'"
      ]
     },
     "execution_count": 3,
     "metadata": {},
     "output_type": "execute_result"
    }
   ],
   "source": [
    "#ans 9\n",
    "list5 = [\"a\",\"b\",\"c\",\"d\"]\n",
    "list5[1]"
   ]
  },
  {
   "cell_type": "code",
   "execution_count": 14,
   "id": "b7038949-c9a4-41a3-861a-9eb0e8df6403",
   "metadata": {},
   "outputs": [
    {
     "name": "stdout",
     "output_type": "stream",
     "text": [
      "('100', '200', '300')\n"
     ]
    }
   ],
   "source": [
    "#ans 11\n",
    "tuple1 = (\"100\",\"200\",\"300\")\n",
    "print(tuple1)"
   ]
  },
  {
   "cell_type": "code",
   "execution_count": 15,
   "id": "e81156d5-6b96-4a8f-963c-2f3b1e646b2b",
   "metadata": {},
   "outputs": [
    {
     "data": {
      "text/plain": [
       "tuple"
      ]
     },
     "execution_count": 15,
     "metadata": {},
     "output_type": "execute_result"
    }
   ],
   "source": [
    "type(tuple1)"
   ]
  },
  {
   "cell_type": "code",
   "execution_count": 23,
   "id": "a62a34c8-8713-408b-b22d-145df3dcf11f",
   "metadata": {},
   "outputs": [
    {
     "data": {
      "text/plain": [
       "('green', 'blue', 'yellow')"
      ]
     },
     "execution_count": 23,
     "metadata": {},
     "output_type": "execute_result"
    }
   ],
   "source": [
    "#ans 12\n",
    "tuple2 = (\"red\",\"green\",\"blue\",\"yellow\")\n",
    "tuple2[1:4]"
   ]
  },
  {
   "cell_type": "code",
   "execution_count": 36,
   "id": "774e0558-5ce4-43a1-9280-fa5f1d1cfc7d",
   "metadata": {},
   "outputs": [
    {
     "data": {
      "text/plain": [
       "'10'"
      ]
     },
     "execution_count": 36,
     "metadata": {},
     "output_type": "execute_result"
    }
   ],
   "source": [
    "#ans 13\n",
    "tuple3 =(\"10\",\"20\",\"5\",\"15\")\n",
    "min(tuple3)"
   ]
  },
  {
   "cell_type": "code",
   "execution_count": 34,
   "id": "453e62bd-dc4e-46c3-bf6c-47baebdd90be",
   "metadata": {},
   "outputs": [
    {
     "data": {
      "text/plain": [
       "'cat'"
      ]
     },
     "execution_count": 34,
     "metadata": {},
     "output_type": "execute_result"
    }
   ],
   "source": [
    "#ans 14\n",
    "tuple4 =(\"dog\",\"cat\",\"rabbit\")\n",
    "tuple4[1]"
   ]
  },
  {
   "cell_type": "code",
   "execution_count": 40,
   "id": "4c32653c-df76-4157-b405-c38a0fd0a373",
   "metadata": {},
   "outputs": [
    {
     "data": {
      "text/plain": [
       "True"
      ]
     },
     "execution_count": 40,
     "metadata": {},
     "output_type": "execute_result"
    }
   ],
   "source": [
    "#ans 15\n",
    "tuple5 = (\"apple\",\"mango\",\"kiwi\")\n",
    "\"kiwi\" in tuple5"
   ]
  },
  {
   "cell_type": "code",
   "execution_count": 42,
   "id": "94e1bd40-84f8-4ce9-9d93-c93950c7a836",
   "metadata": {},
   "outputs": [
    {
     "name": "stdout",
     "output_type": "stream",
     "text": [
      "{'b', 'a', 'c'}\n"
     ]
    }
   ],
   "source": [
    "#ans 16\n",
    "set1 = {\"a\",\"b\",\"c\"}\n",
    "print(set1)"
   ]
  },
  {
   "cell_type": "code",
   "execution_count": 58,
   "id": "29bd7e57-4324-464e-be48-4f54f1c73125",
   "metadata": {},
   "outputs": [
    {
     "data": {
      "text/plain": [
       "set()"
      ]
     },
     "execution_count": 58,
     "metadata": {},
     "output_type": "execute_result"
    }
   ],
   "source": [
    "#ans 17\n",
    "set2 = {\"1\",\"2\",\"3\",\"4\",\"5\"}\n",
    "set2.clear()\n",
    "set2"
   ]
  },
  {
   "cell_type": "code",
   "execution_count": 55,
   "id": "e3d3c886-3b06-4e3f-adea-36eac1bd4f91",
   "metadata": {},
   "outputs": [],
   "source": [
    "#ans 18\n",
    "set3 = {\"1\",\"2\",\"3\",\"4\"}\n",
    "set3.remove(\"4\")"
   ]
  },
  {
   "cell_type": "code",
   "execution_count": 56,
   "id": "0f6c16d6-830d-4943-8c28-06d150dc69af",
   "metadata": {},
   "outputs": [
    {
     "data": {
      "text/plain": [
       "{'1', '2', '3'}"
      ]
     },
     "execution_count": 56,
     "metadata": {},
     "output_type": "execute_result"
    }
   ],
   "source": [
    "set3"
   ]
  },
  {
   "cell_type": "code",
   "execution_count": 64,
   "id": "7f8c9bd9-a5f9-4ff5-bb0f-e39360117db3",
   "metadata": {},
   "outputs": [
    {
     "data": {
      "text/plain": [
       "{'1', '2', '3', '4', '5'}"
      ]
     },
     "execution_count": 64,
     "metadata": {},
     "output_type": "execute_result"
    }
   ],
   "source": [
    "#ans 19\n",
    "set4 = {\"1\",\"2\",\"3\"}\n",
    "set5 = {\"3\",\"4\",\"5\"}\n",
    "set4 | set5"
   ]
  },
  {
   "cell_type": "code",
   "execution_count": 65,
   "id": "7668bd5e-26d7-4b24-883b-495cfdc64427",
   "metadata": {},
   "outputs": [
    {
     "data": {
      "text/plain": [
       "{'2', '3'}"
      ]
     },
     "execution_count": 65,
     "metadata": {},
     "output_type": "execute_result"
    }
   ],
   "source": [
    "#ans 20\n",
    "set6 = {\"1\",\"2\",\"3\"}\n",
    "set7 = {\"2\",\"3\",\"4\"}\n",
    "set6 & set7"
   ]
  },
  {
   "cell_type": "code",
   "execution_count": 1,
   "id": "14713598-94c2-47fc-9b42-fb2906a07a8f",
   "metadata": {},
   "outputs": [
    {
     "name": "stdout",
     "output_type": "stream",
     "text": [
      "{'name': 'Jinal', 'age': '26', 'city': 'Mumbai'}\n"
     ]
    }
   ],
   "source": [
    "#ans 21\n",
    "dict1 = {\"name\":\"Jinal\", \"age\":\"26\", \"city\":\"Mumbai\"}\n",
    "print(dict1)"
   ]
  },
  {
   "cell_type": "code",
   "execution_count": 2,
   "id": "2d08c3a4-8bbe-4fed-aab0-4a2d7534f17e",
   "metadata": {},
   "outputs": [
    {
     "data": {
      "text/plain": [
       "dict"
      ]
     },
     "execution_count": 2,
     "metadata": {},
     "output_type": "execute_result"
    }
   ],
   "source": [
    "type(dict1)"
   ]
  },
  {
   "cell_type": "code",
   "execution_count": 13,
   "id": "da81177c-a305-4995-bd46-67a9eca9bfba",
   "metadata": {},
   "outputs": [
    {
     "data": {
      "text/plain": [
       "{'name': 'John', 'age': '25', 'country': 'USA'}"
      ]
     },
     "execution_count": 13,
     "metadata": {},
     "output_type": "execute_result"
    }
   ],
   "source": [
    "#ans 22\n",
    "dict2 = {\"name\":\"John\", \"age\":\"25\"}\n",
    "dict2[\"country\"] = \"USA\"\n",
    "dict2"
   ]
  },
  {
   "cell_type": "code",
   "execution_count": 4,
   "id": "a95f56e8-a07c-43da-96eb-f47ba4e30203",
   "metadata": {},
   "outputs": [
    {
     "data": {
      "text/plain": [
       "'Alice'"
      ]
     },
     "execution_count": 4,
     "metadata": {},
     "output_type": "execute_result"
    }
   ],
   "source": [
    "#ans 23\n",
    "dict3 = {\"name\":\"Alice\", \"age\":\"30\"}\n",
    "dict3[\"name\"]"
   ]
  },
  {
   "cell_type": "code",
   "execution_count": 15,
   "id": "d22802eb-4916-40a7-be41-40c11311c27e",
   "metadata": {},
   "outputs": [
    {
     "data": {
      "text/plain": [
       "{'name': 'Bob', 'city': 'New York'}"
      ]
     },
     "execution_count": 15,
     "metadata": {},
     "output_type": "execute_result"
    }
   ],
   "source": [
    "#ans 24\n",
    "dict4 = {\"name\":\"Bob\", \"age\":\"22\", \"city\":\"New York\"}\n",
    "del dict4[\"age\"]\n",
    "dict4"
   ]
  },
  {
   "cell_type": "code",
   "execution_count": 10,
   "id": "b5ebf235-e29a-4198-b48a-98f1bb3ac72d",
   "metadata": {},
   "outputs": [
    {
     "name": "stdout",
     "output_type": "stream",
     "text": [
      "Yes it exists\n"
     ]
    }
   ],
   "source": [
    "#ans 25\n",
    "dict5 = {\"name\":\"Alice\", \"city\":\"Paris\"}\n",
    "if \"city\" in dict5:\n",
    "    print(\"Yes it exists\")"
   ]
  },
  {
   "cell_type": "code",
   "execution_count": 11,
   "id": "6f9cb0b4-3827-4025-a0fc-f87601764899",
   "metadata": {},
   "outputs": [
    {
     "data": {
      "text/plain": [
       "{'name': ['Jinal', 'Unnati', 'Tejas'],\n",
       " 'email': 'jk@gmail.com',\n",
       " 'contact': (1234, 4567)}"
      ]
     },
     "execution_count": 11,
     "metadata": {},
     "output_type": "execute_result"
    }
   ],
   "source": [
    "#ans 26\n",
    "example1 = {\"name\":[\"Jinal\",\"Unnati\",\"Tejas\"], \"email\":\"jk@gmail.com\", \"contact\":(1234,4567)}\n",
    "example1\n",
    "#it contains all three a list, a tuple and a dictionary"
   ]
  },
  {
   "cell_type": "code",
   "execution_count": 21,
   "id": "463e328c-94c2-47a9-a6eb-d756f9da20db",
   "metadata": {},
   "outputs": [
    {
     "name": "stdout",
     "output_type": "stream",
     "text": [
      "['1', '5', '57', '87', '90']\n"
     ]
    }
   ],
   "source": [
    "#ans 27\n",
    "list6 = [\"5\",\"1\",\"87\",\"57\",\"90\"]\n",
    "list6.sort()\n",
    "print(list6)"
   ]
  },
  {
   "cell_type": "code",
   "execution_count": 27,
   "id": "6ba47605-85fc-401c-85ce-c4af04e170ec",
   "metadata": {},
   "outputs": [
    {
     "ename": "TypeError",
     "evalue": "'list' object is not callable",
     "output_type": "error",
     "traceback": [
      "\u001b[1;31m---------------------------------------------------------------------------\u001b[0m",
      "\u001b[1;31mTypeError\u001b[0m                                 Traceback (most recent call last)",
      "Cell \u001b[1;32mIn[27], line 3\u001b[0m\n\u001b[0;32m      1\u001b[0m \u001b[38;5;66;03m#ans 28\u001b[39;00m\n\u001b[0;32m      2\u001b[0m list7 \u001b[38;5;241m=\u001b[39m [\u001b[38;5;124m\"\u001b[39m\u001b[38;5;124mIndia\u001b[39m\u001b[38;5;124m\"\u001b[39m, \u001b[38;5;124m\"\u001b[39m\u001b[38;5;124mJapan\u001b[39m\u001b[38;5;124m\"\u001b[39m, \u001b[38;5;124m\"\u001b[39m\u001b[38;5;124mChina\u001b[39m\u001b[38;5;124m\"\u001b[39m, \u001b[38;5;124m\"\u001b[39m\u001b[38;5;124mNepal\u001b[39m\u001b[38;5;124m\"\u001b[39m, \u001b[38;5;124m\"\u001b[39m\u001b[38;5;124mUSA\u001b[39m\u001b[38;5;124m\"\u001b[39m]\n\u001b[1;32m----> 3\u001b[0m list7(\u001b[38;5;241m3\u001b[39m)\n",
      "\u001b[1;31mTypeError\u001b[0m: 'list' object is not callable"
     ]
    }
   ],
   "source": [
    "#ans 28\n",
    "list7 = [\"India\", \"Japan\", \"China\", \"Nepal\", \"USA\"]\n",
    "list7(3)\n",
    "#not callable"
   ]
  },
  {
   "cell_type": "code",
   "execution_count": 29,
   "id": "51103afe-e216-4211-b336-6e7bcb517614",
   "metadata": {},
   "outputs": [],
   "source": [
    "#ans 29\n",
    "dict6 = {\"name\":\"Gunjan\",\"age\":\"12\"}\n",
    "dict7 = {\"address\":\"Mumbai\"}\n",
    "dict6.update(dict7)"
   ]
  },
  {
   "cell_type": "code",
   "execution_count": 30,
   "id": "e2e54c6a-d591-45cd-9d0d-271cf77ced61",
   "metadata": {},
   "outputs": [
    {
     "data": {
      "text/plain": [
       "{'name': 'Gunjan', 'age': '12', 'address': 'Mumbai'}"
      ]
     },
     "execution_count": 30,
     "metadata": {},
     "output_type": "execute_result"
    }
   ],
   "source": [
    "dict6"
   ]
  },
  {
   "cell_type": "code",
   "execution_count": 36,
   "id": "fa7748dd-0f71-49d3-bf49-f2b481314893",
   "metadata": {},
   "outputs": [
    {
     "data": {
      "text/plain": [
       "list"
      ]
     },
     "execution_count": 36,
     "metadata": {},
     "output_type": "execute_result"
    }
   ],
   "source": [
    "#ans 30\n",
    "list8 = [\"Mumbai\", \"Pune\", \"Nagpur\", \"Pune\"]\n",
    "type(list8)"
   ]
  },
  {
   "cell_type": "code",
   "execution_count": 37,
   "id": "65a386fe-3195-4749-aa6c-a44ad004b983",
   "metadata": {},
   "outputs": [
    {
     "data": {
      "text/plain": [
       "{'Mumbai', 'Nagpur', 'Pune'}"
      ]
     },
     "execution_count": 37,
     "metadata": {},
     "output_type": "execute_result"
    }
   ],
   "source": [
    "set(list8)"
   ]
  },
  {
   "cell_type": "code",
   "execution_count": null,
   "id": "99db0d13-177f-468f-baaf-74853cb56562",
   "metadata": {},
   "outputs": [],
   "source": [
    "#Theory questions\n",
    "#ans 1\n",
    "#Data structures are specialized formats for organizing, storing, and accessing collections of data. They provide efficient ways to manage information based on its characteristics and intended use.\n",
    "#Think of them as containers that hold your data and determine how you can interact with it. Different containers are better suited for different types of items.\n",
    "#Why are they important?\n",
    "#Choosing the right data structure significantly impacts the efficiency and performance of your program.\n",
    "#The well-chosen data structures can:\n",
    "#They simplify data manipulation (adding, removing, modifying elements)\n",
    "#They optimize searching and sorting operations\n",
    "#They conserve memory usage"
   ]
  },
  {
   "cell_type": "code",
   "execution_count": 43,
   "id": "ba624f0e-02ca-40e5-a310-59665918ea2d",
   "metadata": {},
   "outputs": [
    {
     "ename": "TypeError",
     "evalue": "'tuple' object is not callable",
     "output_type": "error",
     "traceback": [
      "\u001b[1;31m---------------------------------------------------------------------------\u001b[0m",
      "\u001b[1;31mTypeError\u001b[0m                                 Traceback (most recent call last)",
      "Cell \u001b[1;32mIn[43], line 4\u001b[0m\n\u001b[0;32m      1\u001b[0m \u001b[38;5;66;03m#ans 2\u001b[39;00m\n\u001b[0;32m      2\u001b[0m \u001b[38;5;66;03m#Immutable data types are those whose values cannot be changed once they are created. If you try to modify an immutable object, a new object is created instead.\u001b[39;00m\n\u001b[0;32m      3\u001b[0m tuple6 \u001b[38;5;241m=\u001b[39m (\u001b[38;5;241m1\u001b[39m,\u001b[38;5;241m2\u001b[39m,\u001b[38;5;241m3\u001b[39m)\n\u001b[1;32m----> 4\u001b[0m tuple6(\u001b[38;5;241m1\u001b[39m) \u001b[38;5;241m==\u001b[39m \u001b[38;5;241m4\u001b[39m\n",
      "\u001b[1;31mTypeError\u001b[0m: 'tuple' object is not callable"
     ]
    }
   ],
   "source": [
    "#ans 2\n",
    "#Immutable data types are those whose values cannot be changed once they are created. If you try to modify an immutable object, a new object is created instead.\n",
    "tuple6 = (1,2,3)\n",
    "tuple6(1) == 4\n",
    "#tuple is immutable"
   ]
  },
  {
   "cell_type": "code",
   "execution_count": 48,
   "id": "e2849ed2-67bb-4d24-80da-526df1af5430",
   "metadata": {},
   "outputs": [
    {
     "data": {
      "text/plain": [
       "[4, 5, 6, 7, 8, 9]"
      ]
     },
     "execution_count": 48,
     "metadata": {},
     "output_type": "execute_result"
    }
   ],
   "source": [
    "#Mutable data types are those whose values can be changed after they are created.\n",
    "list9 = [4,5,6,7,8]\n",
    "list9.append(9)\n",
    "list9\n",
    "#lists are mutable"
   ]
  },
  {
   "cell_type": "code",
   "execution_count": null,
   "id": "5b1ba490-1a93-4320-8a28-5f133cd372cc",
   "metadata": {},
   "outputs": [],
   "source": [
    "#ans 3\n",
    "#This is one of the important differences between the lists and the tuples. Mutability is the property of an element to be modified. In Python, lists are mutable whereas tuples are not.\n",
    "#We can reassign or delete the values of lists but when we try doing the same thing with the tuples we get an error. "
   ]
  },
  {
   "cell_type": "code",
   "execution_count": null,
   "id": "1bca57aa-b525-4365-bc38-79a575c31d0d",
   "metadata": {},
   "outputs": [],
   "source": [
    "#ans 4\n",
    "#Dictionaries are a built-in data type in Python that allow you to store data as key-value pairs."
   ]
  },
  {
   "cell_type": "code",
   "execution_count": null,
   "id": "2044f7ae-e681-44a2-9292-d7d88ce87757",
   "metadata": {},
   "outputs": [],
   "source": [
    "#ans 5\n",
    "#usually to remove duplicates if any in lists"
   ]
  },
  {
   "cell_type": "code",
   "execution_count": null,
   "id": "6a077a3b-79b4-4709-8a6a-08405bc7dd4b",
   "metadata": {},
   "outputs": [],
   "source": [
    "#ans 6\n",
    "#A Python string is a data structure that represents a sequence of characters and is typically wrapped in quotes.\n",
    "#A Python list is used to store different data types, like strings, integers, lists, etc."
   ]
  },
  {
   "cell_type": "code",
   "execution_count": null,
   "id": "f05ecf22-8782-4918-b83e-5a6f6bede246",
   "metadata": {},
   "outputs": [],
   "source": [
    "#ans 7\n",
    "#Immutable: Once created, they cannot be modified. This makes them hashable and usable as keys in dictionaries.\n",
    "#Safety: Since they are immutable, there’s no risk of unintended side-effects when passing them around in functions.\n",
    "#When you need a collection of data that shouldn't change, like the days of the week or coordinates of a point they can be used.\n",
    "#When you want to ensure data integrity and prevent accidental modifications tuples can be used."
   ]
  },
  {
   "cell_type": "code",
   "execution_count": null,
   "id": "9f13d94b-c6f8-454f-80ca-3d1c3f39329c",
   "metadata": {},
   "outputs": [],
   "source": [
    "#ans 8\n",
    "#A hash table is a data structure that allows for efficient insertion, lookup, and deletion of key-value pairs. In Python, the built-in dictionary (dict) is an implementation of a hash table\n",
    "#Hash tables are a powerful data structure for efficient data retrieval. Python's dictionaries provide a high-level, user-friendly implementation of hash tables, making them an excellent tool for various programming tasks"
   ]
  },
  {
   "cell_type": "code",
   "execution_count": null,
   "id": "2fc25fd8-5da7-4ed4-bf46-27ac6b43777e",
   "metadata": {},
   "outputs": [],
   "source": [
    "#ans 9\n",
    "#Yes a list can contain different data types in Python"
   ]
  },
  {
   "cell_type": "code",
   "execution_count": null,
   "id": "52941bf7-3de8-499a-ad1c-ec576f3b62d3",
   "metadata": {},
   "outputs": [],
   "source": [
    "#ans 10\n",
    "#Strings in Python are immutable which means that once a string variable is assigned to a string (For eg a ='Hello') the contents of the string cannot be changed unlike the list object. In the code above you are in a way transforming your string and not changing the contents of your string variable."
   ]
  },
  {
   "cell_type": "code",
   "execution_count": null,
   "id": "e6eddbad-9e4f-4209-ba26-dcacfd501dec",
   "metadata": {},
   "outputs": [],
   "source": [
    "#ans 11\n",
    "#Maintain order, making them great when sequence matters.Allow duplicates—ideal for collections where repetition is key.Quick access to elements by index, perfect for iteration.Perfect for key-value pairs—associate unique keys with values."
   ]
  },
  {
   "cell_type": "code",
   "execution_count": null,
   "id": "5645bd31-9035-4189-8bf2-0f27b6eabac4",
   "metadata": {},
   "outputs": [],
   "source": [
    "#ans 12\n",
    "#When you need to save a data which should not be changed or updated as specific ids which need to be distinct tuples should be used"
   ]
  },
  {
   "cell_type": "code",
   "execution_count": null,
   "id": "2aeb2b36-23a2-41f4-ac20-f9f3d19ea48c",
   "metadata": {},
   "outputs": [],
   "source": [
    "#ans 13\n",
    "#In sets only distinct values remain duplicate values are remove"
   ]
  },
  {
   "cell_type": "code",
   "execution_count": null,
   "id": "0109e62c-6690-4f66-8762-6e907cc15985",
   "metadata": {},
   "outputs": [],
   "source": [
    "#ans 14\n",
    "#The in operator uses different algorithms for lists and dictionaries. For lists, it uses a search algorithm. As the list gets longer, the search time gets longer in direct\n",
    "#proportion. For dictionaries, Python uses an algorithm called a hashtable that has a remarkable property: the in operator takes about the same amount of time no matter how many items there are in a dictionary. "
   ]
  },
  {
   "cell_type": "code",
   "execution_count": null,
   "id": "ea53d8fe-6959-4777-aa3b-51dbd13dd3f9",
   "metadata": {},
   "outputs": [],
   "source": [
    "#ans 15\n",
    "#tuples, like strings, are immutable objects in that their values cannot be changed once they have been created. You usually use tuples when you want to store a list of values that you wont be editing, maybe they are constant"
   ]
  },
  {
   "cell_type": "code",
   "execution_count": null,
   "id": "cbd86ef4-ae12-4f1a-976e-e6b1f95fe0cf",
   "metadata": {},
   "outputs": [],
   "source": [
    "#ans 16\n",
    "#Nesting Dictionary means putting a dictionary inside another dictionary. It can be used if one element has multiple key values."
   ]
  },
  {
   "cell_type": "code",
   "execution_count": null,
   "id": "258b55f9-65d4-4016-82f0-e2b6ddb726db",
   "metadata": {},
   "outputs": [],
   "source": [
    "#ans 17\n",
    "#The python dict is a hashmap, its worst case is therefore O(n) if the hash function is bad and results in a lot of collisions. However that is a very rare case where every item added has the same hash and so is added to the same chain which for a major Python implementation would be extremely unlikely. "
   ]
  },
  {
   "cell_type": "code",
   "execution_count": null,
   "id": "2fa6d330-03b8-4706-b32b-1310eb747b93",
   "metadata": {},
   "outputs": [],
   "source": [
    "#ans 18\n",
    "#Lists is preferred over dictionaries as to store different type of data without key values assigned."
   ]
  },
  {
   "cell_type": "code",
   "execution_count": null,
   "id": "27163ef9-41c2-47c6-81d0-b2dc3fc63d8f",
   "metadata": {},
   "outputs": [],
   "source": [
    "#ans 19\n",
    "#Dictionaries are considered unordered because they do not maintain an inherent positional index like lists or arrays; instead, they use keys to uniquely identify and retrieve values associated with those keys. This means that the order in which elements are stored is not the same as the order in which they are printed. The unordered nature of dictionaries allows for optimized storage and fast retrieval based on keys, which can enhance performance when accessing data"
   ]
  },
  {
   "cell_type": "code",
   "execution_count": null,
   "id": "9d9169be-f6c9-45bc-a621-5857244f3dc5",
   "metadata": {},
   "outputs": [],
   "source": [
    "#ans 20\n",
    "#The data is stored along with key values in dictionary whereas it is stored in elements in lists."
   ]
  }
 ],
 "metadata": {
  "kernelspec": {
   "display_name": "Python 3 (ipykernel)",
   "language": "python",
   "name": "python3"
  },
  "language_info": {
   "codemirror_mode": {
    "name": "ipython",
    "version": 3
   },
   "file_extension": ".py",
   "mimetype": "text/x-python",
   "name": "python",
   "nbconvert_exporter": "python",
   "pygments_lexer": "ipython3",
   "version": "3.12.7"
  }
 },
 "nbformat": 4,
 "nbformat_minor": 5
}
